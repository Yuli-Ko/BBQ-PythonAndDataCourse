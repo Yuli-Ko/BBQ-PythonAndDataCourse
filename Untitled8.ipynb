{
 "cells": [
  {
   "cell_type": "code",
   "execution_count": 7,
   "id": "7072c4ad-ed7a-491e-950d-5d87775eec2e",
   "metadata": {},
   "outputs": [
    {
     "name": "stdout",
     "output_type": "stream",
     "text": [
      "Nathan Baker Python\n",
      "Lily Green Google\n",
      "Luke Harris Microsoft\n",
      "Chloe Clark Python\n",
      "Alex Miller Google\n",
      "Ella Martin Microsoft\n",
      "Will Tucker Python\n",
      "Ava Campbell Google\n",
      "Ryan Stewart Microsoft\n",
      "Sophie Turner Python\n"
     ]
    }
   ],
   "source": [
    " email_addresses = [\n",
    "   \"nathan_baker@python.de\",\n",
    "    \"lily_green@google.biz\",\n",
    "    \"luke_harris@microsoft.com\",\n",
    "    \"chloe_clark@python.de\",\n",
    "    \"alex_miller@google.biz\",\n",
    "    \"ella_martin@microsoft.com\",\n",
    "    \"will_tucker@python.de\",\n",
    "    \"ava_campbell@google.biz\",\n",
    "    \"ryan_stewart@microsoft.com\",\n",
    "    \"sophie_turner@python.de\"\n",
    " ]\n",
    "first_names = []\n",
    "last_names = []\n",
    "companies = []\n",
    "\n",
    "\n",
    "for email in email_addresses:\n",
    "    parts = email.split('@')\n",
    "    \n",
    "    name_parts = parts[0].split('_')\n",
    "    \n",
    "    print(name_parts[0].capitalize() + \" \" + name_parts[1].capitalize() + \" \" + parts[1].split('.')[0].capitalize())\n"
   ]
  },
  {
   "cell_type": "code",
   "execution_count": null,
   "id": "3fb4addb-18dc-4357-9f71-e8226b816547",
   "metadata": {},
   "outputs": [],
   "source": [
    "for email in email_addresses:\n",
    "    parts = email.split('@')\n",
    "    \n",
    "    name_parts = parts[0].split('_')\n",
    "    \n",
    "    (name_parts[0] + \" \" + name_parts[1] + \" \" + parts[1].split('.')[0])\n"
   ]
  },
  {
   "cell_type": "code",
   "execution_count": 9,
   "id": "008ef749-17ad-4406-ad92-c96e9cf5a306",
   "metadata": {},
   "outputs": [
    {
     "ename": "SyntaxError",
     "evalue": "invalid syntax (2885534300.py, line 22)",
     "output_type": "error",
     "traceback": [
      "\u001b[0;36m  Cell \u001b[0;32mIn[9], line 22\u001b[0;36m\u001b[0m\n\u001b[0;31m    for company, employees in company_list.items(): print(f\"Greetings for {company.capitalize()}:\") for employee_email in employees: employee_name = employee_email.split('@')[0].replace('_', ' ') print(f\"Hi {employee_name} in {company.capitalize()}!\")\u001b[0m\n\u001b[0m                                                                                                    ^\u001b[0m\n\u001b[0;31mSyntaxError\u001b[0m\u001b[0;31m:\u001b[0m invalid syntax\n"
     ]
    }
   ],
   "source": [
    "email_addresses = [ \"john_doe@microsoft.com\", \"emma_smith@python.de\", \"charlie_jones@google.biz\", \"olivia_wilson@microsoft.com\", \"daniel_taylor@python.de\", \"frank_robinson@google.biz\", \"grace_miller@microsoft.com\", \"henry_anderson@python.de\", \"isabella_hill@google.biz\", \"sam_evans@microsoft.com\", \"lily_baker@python.de\", \"liam_green@google.biz\", \"mia_harris@microsoft.com\", \"noah_clark@python.de\", \"oliver_miller@google.biz\", \"ella_martin@microsoft.com\", \"will_tucker@python.de\", \"ava_campbell@google.biz\", \"ryan_stewart@microsoft.com\", \"sophia_turner@python.de\", \"adam_smith@microsoft.com\", \"elizabeth_jones@python.de\", \"michael_davis@google.biz\", \"olivia_wilson@microsoft.com\", \"daniel_taylor@python.de\", \"susan_robinson@google.biz\", \"john_miller@microsoft.com\", \"amy_anderson@python.de\", \"james_hill@google.biz\", \"emily_evans@microsoft.com\", \"nathan_baker@python.de\", \"lily_green@google.biz\", \"luke_harris@microsoft.com\", \"chloe_clark@python.de\", \"alex_miller@google.biz\", \"ella_martin@microsoft.com\", \"will_tucker@python.de\", \"ava_campbell@google.biz\", \"ryan_stewart@microsoft.com\", \"sophie_turner@python.de\" ]\n",
    "\n",
    "first_names = [] \n",
    "last_names = [] \n",
    "companies = []\n",
    "\n",
    "company_list = { \"google\": [], \"microsoft\": [], \"python\": [] }\n",
    "\n",
    "for email in email_addresses: parts = email.split('@')\n",
    "\n",
    "name_parts = parts[0].split('_')\n",
    "\n",
    "first_names.append(name_parts[0])\n",
    "\n",
    "last_names.append(name_parts[1])\n",
    "\n",
    "companies.append(parts[1].split('.')[0])\n",
    "\n",
    "company_list[companies[-1]].append(email)\n",
    "\n",
    "for company, employees in company_list.items(): print(f\"Greetings for {company.capitalize()}:\") for employee_email in employees: employee_name = employee_email.split('@')[0].replace('_', ' ') print(f\"Hi {employee_name} in {company.capitalize()}!\")\n",
    "\n",
    "print()\n",
    "for companies, employee_name in company_list.items():\n",
    "\n",
    "print(f\"Greetings for {companies.capitalize()}:\")\n",
    "\n",
    "print(\"First Names:\", first_names)\n",
    "\n",
    "print(\"Last Names:\", last_names)\n",
    "\n",
    "print(\"Companies:\", companies)\n",
    "\n",
    "for company, employees in company_list.items():\n",
    "\n",
    "print(f\"Greetings for {company.capitalize()}:\")\n",
    "\n",
    "for employee_email in employees:\n",
    "\n",
    "employee_name = employee_email.split('@')[0].replace('_', ' ')\n",
    "\n",
    "print(f\"Hello {employee_name} von {company.capitalize()}, schön, dass du dabei bist!\")"
   ]
  },
  {
   "cell_type": "code",
   "execution_count": 19,
   "id": "29049666-0484-4e5d-8611-383ade66a929",
   "metadata": {},
   "outputs": [
    {
     "name": "stdout",
     "output_type": "stream",
     "text": [
      "{'Lily green'} {'Google'}\n",
      "{'Alex miller'} {'Google'}\n",
      "{'Ava campbell'} {'Google'}\n",
      "{'Luke harris'} {'Microsoft'}\n",
      "{'Ella martin'} {'Microsoft'}\n",
      "{'Ryan stewart'} {'Microsoft'}\n",
      "{'Nathan baker'} {'Python'}\n",
      "{'Chloe clark'} {'Python'}\n",
      "{'Will tucker'} {'Python'}\n",
      "{'Sophie turner'} {'Python'}\n",
      "\n"
     ]
    }
   ],
   "source": [
    "company_list = {\"google\": [], \"microsoft\": [], \"python\": []}\n",
    "first_names = []\n",
    "last_names = []\n",
    "companies = []\n",
    "\n",
    "for email in email_addresses:\n",
    "    parts = email.split('@')\n",
    "    name_parts = parts[0].split('_')\n",
    "    first_names.append(name_parts[0])\n",
    "    last_names.append(name_parts[1])\n",
    "    companies.append(parts[1].split('.')[0])\n",
    "    company_list[companies[-1]].append(email)\n",
    "\n",
    "for company, employees in company_list.items():\n",
    "    for employee_email in employees:\n",
    "        employee_name = employee_email.split('@')[0].replace('_', ' ')\n",
    "        print({employee_name.capitalize()}, {company.capitalize()})\n",
    "\n",
    "print()\n"
   ]
  },
  {
   "cell_type": "code",
   "execution_count": 22,
   "id": "cefd5a2e-564c-4e71-b979-5c1cad8553fa",
   "metadata": {},
   "outputs": [
    {
     "ename": "TypeError",
     "evalue": "unsupported operand type(s) for +: 'int' and 'str'",
     "output_type": "error",
     "traceback": [
      "\u001b[0;31m---------------------------------------------------------------------------\u001b[0m",
      "\u001b[0;31mTypeError\u001b[0m                                 Traceback (most recent call last)",
      "Cell \u001b[0;32mIn[22], line 1\u001b[0m\n\u001b[0;32m----> 1\u001b[0m \u001b[38;5;241;43m3\u001b[39;49m\u001b[38;5;241;43m+\u001b[39;49m\u001b[38;5;124;43m\"\u001b[39;49m\u001b[38;5;124;43m3.0\u001b[39;49m\u001b[38;5;124;43m\"\u001b[39;49m\n",
      "\u001b[0;31mTypeError\u001b[0m: unsupported operand type(s) for +: 'int' and 'str'"
     ]
    }
   ],
   "source": [
    "3+\"3.0\"\n"
   ]
  },
  {
   "cell_type": "code",
   "execution_count": 38,
   "id": "ec7cf7ab-0972-49ff-a286-0a38a89dcc02",
   "metadata": {},
   "outputs": [
    {
     "name": "stdout",
     "output_type": "stream",
     "text": [
      "10\n"
     ]
    }
   ],
   "source": [
    "\n",
    "def multiply(a, b):\n",
    "   return a * b\n",
    "print(multiply(2,5))"
   ]
  },
  {
   "cell_type": "code",
   "execution_count": 52,
   "id": "d5af441d-b226-4101-9a7b-2e0377f8fb56",
   "metadata": {},
   "outputs": [
    {
     "name": "stdout",
     "output_type": "stream",
     "text": [
      "False\n"
     ]
    }
   ],
   "source": [
    "import math\n",
    "def is_square(n):\n",
    "    sqrt = math.sqrt(n)\n",
    "    return(sqrt.is_integer())\n",
    "\n",
    "#     if sqrt%0.1 == 0:\n",
    "#         return true \n",
    "#     else:\n",
    "#         return False \n",
    "print(is_square(8))\n",
    "# return(sqrt.is_integer())\n"
   ]
  },
  {
   "cell_type": "code",
   "execution_count": 57,
   "id": "5a4d3bc7-b19f-448e-a8db-ddcb04e8a5ef",
   "metadata": {},
   "outputs": [
    {
     "name": "stdout",
     "output_type": "stream",
     "text": [
      "True\n"
     ]
    }
   ],
   "source": [
    "import math\n",
    "def is_square(n):\n",
    "    sqrt = math.sqrt(n)\n",
    "    return(sqrt.is_integer())\n",
    "\n",
    "print(is_square(25))"
   ]
  },
  {
   "cell_type": "code",
   "execution_count": null,
   "id": "6aae9d29-45ee-4fd5-9e53-30de26fec71d",
   "metadata": {},
   "outputs": [],
   "source": []
  },
  {
   "cell_type": "code",
   "execution_count": null,
   "id": "74de2466-a66f-403f-9dec-59446292580e",
   "metadata": {},
   "outputs": [],
   "source": []
  }
 ],
 "metadata": {
  "kernelspec": {
   "display_name": "Python 3 (ipykernel)",
   "language": "python",
   "name": "python3"
  },
  "language_info": {
   "codemirror_mode": {
    "name": "ipython",
    "version": 3
   },
   "file_extension": ".py",
   "mimetype": "text/x-python",
   "name": "python",
   "nbconvert_exporter": "python",
   "pygments_lexer": "ipython3",
   "version": "3.12.1"
  }
 },
 "nbformat": 4,
 "nbformat_minor": 5
}

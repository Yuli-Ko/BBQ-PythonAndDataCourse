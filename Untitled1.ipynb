{
 "cells": [
  {
   "cell_type": "code",
   "execution_count": null,
   "id": "c7b487fe-f2a7-4a3d-b37b-398bbb0014ad",
   "metadata": {},
   "outputs": [],
   "source": [
    " \n",
    "import random \n",
    "import csv\n",
    "\n",
    "selected_words = []\n",
    "\n",
    "while True:     \n",
    "    user_input = input(\"Enter your sity or exit(for finish): \")\n",
    "    if user_input == \"exit\":\n",
    "          break\n",
    "    letter = user_input[-1]\n",
    "\n",
    "    with open('cities/worldcities.csv', 'r') as csvfile:\n",
    "        csv_reader = csv.reader(csvfile)\n",
    "    \n",
    "        for row in csv_reader: \n",
    "            for word in row:\n",
    "                word_lower = word.lower()\n",
    "                if word_lower.startswith(letter):\n",
    "                    selected_words.append(word)\n",
    "               # print(random.choice(selected_words))\n",
    "    if selected_words:\n",
    "        random_response = random.choice(selected_words)\n",
    "        print(f\"Random response: {random_response}\")\n",
    "    else:\n",
    "        print(\"No cities found.\")\n",
    "      "
   ]
  },
  {
   "cell_type": "code",
   "execution_count": null,
   "id": "4a019630-f8be-40fd-be7a-2e07a67ad0e9",
   "metadata": {},
   "outputs": [],
   "source": []
  },
  {
   "cell_type": "code",
   "execution_count": null,
   "id": "3feabc43-5332-4bab-9882-a4f218ce3dc6",
   "metadata": {},
   "outputs": [],
   "source": []
  },
  {
   "cell_type": "code",
   "execution_count": null,
   "id": "b8739918-7d4d-47e6-9589-9c25c358c25a",
   "metadata": {},
   "outputs": [],
   "source": [
    "l1 = [\"eat\", \"sleep\", \"repeat\"]\n",
    "s1 = \"geek\"\n",
    "\n",
    "# creating enumerate objects\n",
    "obj1 = enumerate(l1)\n",
    "obj2 = enumerate(s1)\n",
    "\n",
    "print (obj1)\n",
    "\n",
    "print (list(enumerate(l1)))\n",
    "\n",
    "# changing start index to 2 from 0\n",
    "print (list(enumerate(s1, 2)))\n"
   ]
  },
  {
   "cell_type": "code",
   "execution_count": null,
   "id": "08852037-7e21-4bd0-a5e9-06e6ef3f3d0b",
   "metadata": {},
   "outputs": [],
   "source": [
    "for index_no, value2 in enumerate(list_number[:],0):"
   ]
  },
  {
   "cell_type": "code",
   "execution_count": null,
   "id": "41655cca-031e-43dd-8747-94754b6c05be",
   "metadata": {},
   "outputs": [],
   "source": [
    "xxx = list_number[:]\n",
    "for index_no, value2 in enumerate(xxx,0):"
   ]
  }
 ],
 "metadata": {
  "kernelspec": {
   "display_name": "Python 3 (ipykernel)",
   "language": "python",
   "name": "python3"
  },
  "language_info": {
   "codemirror_mode": {
    "name": "ipython",
    "version": 3
   },
   "file_extension": ".py",
   "mimetype": "text/x-python",
   "name": "python",
   "nbconvert_exporter": "python",
   "pygments_lexer": "ipython3",
   "version": "3.12.1"
  }
 },
 "nbformat": 4,
 "nbformat_minor": 5
}

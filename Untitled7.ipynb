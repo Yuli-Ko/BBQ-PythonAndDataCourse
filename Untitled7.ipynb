{
 "cells": [
  {
   "cell_type": "raw",
   "id": "96371c21-c6cb-49d4-a911-aa7f059442a0",
   "metadata": {},
   "source": [
    "class Restaurant():\n",
    "    def __init__(self, restaurant_name, cuisine_type):\n",
    "        self.restaurant_name = restaurant_name\n",
    "        self.cuisine_type = cuisine_type\n",
    "\n",
    "    def describe_restaurant(self, age , location):\n",
    "        self.age = age\n",
    "        self.location = location\n",
    "        \n",
    "    def open_restaurant(self):\n",
    "        print(self.restaurant_name.title() + \" is now opening.\")\n",
    "\n",
    "odessa = Restaurant(\"odessa\", \"euro\")\n",
    "print(\"Restaurant name is \" + odessa.restaurant_name.title() + \".\")\n",
    "odessa.open_restaurant()\n",
    "# odessa.describe_restaurant(6,\"uk\")\n",
    "# print(\"Restaurant age is \" + str(odessa.age()) + \".\")\n"
   ]
  },
  {
   "cell_type": "code",
   "execution_count": 11,
   "id": "a48ec756-1026-4f07-b127-01e57a487681",
   "metadata": {},
   "outputs": [
    {
     "name": "stdout",
     "output_type": "stream",
     "text": [
      "Restaurant name is Odessa.\n",
      "Odessa is now opening.\n",
      "Restaurant age is 6.\n"
     ]
    }
   ],
   "source": [
    "class Restaurant():\n",
    "    def __init__(self, restaurant_name, cuisine_type):\n",
    "        self.restaurant_name = restaurant_name\n",
    "        self.cuisine_type = cuisine_type\n",
    "\n",
    "    def describe_restaurant(self, age , location):\n",
    "        self.age = age\n",
    "        self.location = location\n",
    "        \n",
    "    def open_restaurant(self):\n",
    "        print(self.restaurant_name.title() + \" is now opening.\")\n",
    "\n",
    "odessa = Restaurant(\"odessa\", \"euro\")\n",
    "print(\"Restaurant name is \" + odessa.restaurant_name.title() + \".\")\n",
    "odessa.open_restaurant()\n",
    "odessa.describe_restaurant(6, \"uk\")\n",
    "print(\"Restaurant age is \" + str(odessa.age) + \".\")"
   ]
  },
  {
   "cell_type": "code",
   "execution_count": null,
   "id": "93ed5da1-2115-4930-afd7-7ab8048ab546",
   "metadata": {},
   "outputs": [],
   "source": [
    "nested_list = [['Apple', 'Banana'], ['Banana', 'Strawberry', 'Kiwi'], ['Orange', 'Apple']]\n",
    "\n",
    "unique_words = set()\n",
    "\n",
    "for elem in list"
   ]
  },
  {
   "cell_type": "code",
   "execution_count": null,
   "id": "3fdd7123-d66e-4554-bed5-0ab6bd8636b1",
   "metadata": {},
   "outputs": [],
   "source": []
  },
  {
   "cell_type": "code",
   "execution_count": 14,
   "id": "6209ac7c-cecf-4cf7-a606-81eba871dcdd",
   "metadata": {},
   "outputs": [
    {
     "ename": "SyntaxError",
     "evalue": "invalid character '‘' (U+2018) (312225006.py, line 1)",
     "output_type": "error",
     "traceback": [
      "\u001b[0;36m  Cell \u001b[0;32mIn[14], line 1\u001b[0;36m\u001b[0m\n\u001b[0;31m    word_list = [‘Apple’, ‘Banana’, ‘Strawberry’, ‘Kiwi’, ‘Orange’]\u001b[0m\n\u001b[0m                 ^\u001b[0m\n\u001b[0;31mSyntaxError\u001b[0m\u001b[0;31m:\u001b[0m invalid character '‘' (U+2018)\n"
     ]
    }
   ],
   "source": [
    "word_list = [‘Apple’, ‘Banana’, ‘Strawberry’, ‘Kiwi’, ‘Orange’]\n",
    "word_list_new =[]\n",
    "for i in sorted(word_list):\n",
    "    if len(i) < 4:\n",
    "    word_list_new.append(i)\n",
    "word_list_new    "
   ]
  },
  {
   "cell_type": "code",
   "execution_count": 19,
   "id": "c5bfb428-8c23-4aa1-84cf-4b43da00317e",
   "metadata": {},
   "outputs": [
    {
     "ename": "AttributeError",
     "evalue": "'str' object has no attribute 'startwith'",
     "output_type": "error",
     "traceback": [
      "\u001b[0;31m---------------------------------------------------------------------------\u001b[0m",
      "\u001b[0;31mAttributeError\u001b[0m                            Traceback (most recent call last)",
      "Cell \u001b[0;32mIn[19], line 7\u001b[0m\n\u001b[1;32m      5\u001b[0m     \u001b[38;5;28;01mif\u001b[39;00m \u001b[38;5;28mlen\u001b[39m(word) \u001b[38;5;241m<\u001b[39m\u001b[38;5;241m=\u001b[39m \u001b[38;5;241m4\u001b[39m:\n\u001b[1;32m      6\u001b[0m         word_list_new\u001b[38;5;241m.\u001b[39mappend(word)\n\u001b[0;32m----> 7\u001b[0m     \u001b[38;5;28;01mif\u001b[39;00m \u001b[43mword\u001b[49m\u001b[38;5;241;43m.\u001b[39;49m\u001b[43mstartwith\u001b[49m(\u001b[38;5;124m\"\u001b[39m\u001b[38;5;124mB\u001b[39m\u001b[38;5;124m\"\u001b[39m):\n\u001b[1;32m      8\u001b[0m         word_list_new\u001b[38;5;241m.\u001b[39mappend(word)\n\u001b[1;32m     10\u001b[0m \u001b[38;5;28mprint\u001b[39m(word_list_new)\n",
      "\u001b[0;31mAttributeError\u001b[0m: 'str' object has no attribute 'startwith'"
     ]
    }
   ],
   "source": [
    "word_list = ['Apple', 'Banana', 'Strawberry', 'Kiwi', 'Orange']\n",
    "word_list_new = []\n",
    "\n",
    "for word in sorted(word_list):\n",
    "    if len(word) <= 4:\n",
    "        word_list_new.append(word)\n",
    "    if word.startwith(\"B\"):\n",
    "        word_list_new.append(word)\n",
    "\n",
    "print(word_list_new)"
   ]
  },
  {
   "cell_type": "code",
   "execution_count": 20,
   "id": "00379a21-3966-4630-a606-c86450477006",
   "metadata": {},
   "outputs": [
    {
     "name": "stdout",
     "output_type": "stream",
     "text": [
      "['Banana', 'Kiwi']\n"
     ]
    }
   ],
   "source": [
    "word_list = ['Apple', 'Banana', 'Strawberry', 'Kiwi', 'Orange']\n",
    "word_list_new = []\n",
    "\n",
    "for word in sorted(word_list):\n",
    "    if len(word) <= 4:\n",
    "        word_list_new.append(word)\n",
    "    elif word.startswith(\"B\"):\n",
    "        word_list_new.append(word)\n",
    "\n",
    "print(word_list_new)\n",
    "\n",
    "\n"
   ]
  },
  {
   "cell_type": "code",
   "execution_count": 23,
   "id": "237ed93b-8cf5-43e5-bf25-88a02a65c618",
   "metadata": {},
   "outputs": [
    {
     "data": {
      "text/plain": [
       "[4, 16, 36]"
      ]
     },
     "execution_count": 23,
     "metadata": {},
     "output_type": "execute_result"
    }
   ],
   "source": [
    "input_list = [1, 2, 3, 4, 5, 6]\n",
    "list_new = []\n",
    "for i in input_list:\n",
    "    if i%2 == 0:\n",
    "        list_new.append(i**2)\n",
    "    \n",
    "list_new   \n"
   ]
  },
  {
   "cell_type": "code",
   "execution_count": 24,
   "id": "91629e4f-fbe4-47fd-867a-70489ec93db8",
   "metadata": {},
   "outputs": [
    {
     "ename": "SyntaxError",
     "evalue": "invalid syntax (2152449594.py, line 2)",
     "output_type": "error",
     "traceback": [
      "\u001b[0;36m  Cell \u001b[0;32mIn[24], line 2\u001b[0;36m\u001b[0m\n\u001b[0;31m    list_new = [i**2 for i in input_list: if i%2 == 0]\u001b[0m\n\u001b[0m                                        ^\u001b[0m\n\u001b[0;31mSyntaxError\u001b[0m\u001b[0;31m:\u001b[0m invalid syntax\n"
     ]
    }
   ],
   "source": [
    "input_list = [1, 2, 3, 4, 5, 6]\n",
    "list_new = [i**2 for i in input_list: if i%2 == 0]\n",
    "    \n",
    "list_new   "
   ]
  },
  {
   "cell_type": "code",
   "execution_count": 25,
   "id": "bee5b5c4-78d4-4e6e-b274-f702acca8418",
   "metadata": {},
   "outputs": [
    {
     "name": "stdout",
     "output_type": "stream",
     "text": [
      "[4, 16, 36]\n"
     ]
    }
   ],
   "source": [
    "input_list = [1, 2, 3, 4, 5, 6]\n",
    "list_new = [i ** 2 for i in input_list if i % 2 == 0]\n",
    "\n",
    "print(list_new) "
   ]
  },
  {
   "cell_type": "code",
   "execution_count": null,
   "id": "262a1a1a-6fa3-4edd-b685-5d5d33e98aef",
   "metadata": {},
   "outputs": [],
   "source": [
    "#Given is a list of numbers. \n",
    "#Convert each number to its binary representation and remove any numbers whose binary representation contains more than 3 ones. Ensure all changes are made directly to the original list and verify this by ensuring the id() of the list remains unchanged.\n",
    "\n",
    "\n",
    "number_list = [245, 532, 17, 789, 321, 874, 99, 450, 666, 123] \n",
    "# Expected output: [532, 17, 321]"
   ]
  },
  {
   "cell_type": "code",
   "execution_count": 26,
   "id": "2faaf908-b738-4fc3-be02-a90ce8bb576a",
   "metadata": {},
   "outputs": [
    {
     "ename": "SyntaxError",
     "evalue": "cannot assign to expression (72560157.py, line 3)",
     "output_type": "error",
     "traceback": [
      "\u001b[0;36m  Cell \u001b[0;32mIn[26], line 3\u001b[0;36m\u001b[0m\n\u001b[0;31m    for i**2 in list:\u001b[0m\n\u001b[0m        ^\u001b[0m\n\u001b[0;31mSyntaxError\u001b[0m\u001b[0;31m:\u001b[0m cannot assign to expression\n"
     ]
    }
   ],
   "source": [
    "list = list(range(1,100))\n",
    "list_new = []\n",
    "for i**2 in list:\n",
    "    if i[-1] == 9:\n",
    "        list_new.append(i**2)\n",
    "list_new\n",
    "    "
   ]
  },
  {
   "cell_type": "code",
   "execution_count": 36,
   "id": "b346032f-1d5f-49c7-b7ab-32a64bdcce7f",
   "metadata": {},
   "outputs": [
    {
     "name": "stdout",
     "output_type": "stream",
     "text": [
      "[9, 49, 169, 289, 529, 729, 1089, 1369, 1849, 2209, 2809, 3249, 3969, 4489, 5329, 5929, 6889, 7569, 8649, 9409]\n"
     ]
    }
   ],
   "source": [
    "original_list = list(range(1, 100))\n",
    "new_list = []\n",
    "\n",
    "for i in original_list:\n",
    "    if str(i**2)[-1] == '9' or  bin(i ** 2)[-5:] == '00011' or a in hex(i**2) :  \n",
    "        new_list.append(i ** 2)\n",
    "\n",
    "\n",
    "\n",
    "print(new_list)\n",
    "\n"
   ]
  },
  {
   "cell_type": "code",
   "execution_count": 30,
   "id": "7062ed93-b280-4aa8-bd56-a81f463de0ff",
   "metadata": {},
   "outputs": [
    {
     "ename": "SyntaxError",
     "evalue": "leading zeros in decimal integer literals are not permitted; use an 0o prefix for octal integers (2725932419.py, line 7)",
     "output_type": "error",
     "traceback": [
      "\u001b[0;36m  Cell \u001b[0;32mIn[30], line 7\u001b[0;36m\u001b[0m\n\u001b[0;31m    elif bin(i**2) == 0011\u001b[0m\n\u001b[0m                      ^\u001b[0m\n\u001b[0;31mSyntaxError\u001b[0m\u001b[0;31m:\u001b[0m leading zeros in decimal integer literals are not permitted; use an 0o prefix for octal integers\n"
     ]
    }
   ],
   "source": [
    "original_list = list(range(1, 100))\n",
    "new_list = []\n",
    "\n",
    "for i in original_list:\n",
    "    if str(i)[-1] == '3':\n",
    "        new_list.append(i ** 2)\n",
    "    elif bin(i ** 2)[-2:] == '11':  # Check if the last two characters of the binary representation are '11'\n",
    "        new_list.append(i)\n",
    "\n",
    "print(new_list)\n"
   ]
  },
  {
   "cell_type": "code",
   "execution_count": 31,
   "id": "45ef6268-a355-4a34-935b-b4b4c63b540c",
   "metadata": {},
   "outputs": [
    {
     "name": "stdout",
     "output_type": "stream",
     "text": [
      "[9, 169, 529, 1089, 1849, 2809, 3969, 5329, 6889, 8649]\n"
     ]
    }
   ],
   "source": [
    "original_list = list(range(1, 100))\n",
    "new_list = []\n",
    "\n",
    "for i in original_list:\n",
    "    if str(i)[-1] == '3':\n",
    "        new_list.append(i ** 2)\n",
    "    elif bin(i ** 2)[-4:] == '0011':  # Check if the last two characters of the binary representation are '11'\n",
    "        new_list.append(i**2)\n",
    "\n",
    "print(new_list)\n"
   ]
  },
  {
   "cell_type": "code",
   "execution_count": 35,
   "id": "9091e4de-38ff-408b-bc53-103058fe9a4a",
   "metadata": {},
   "outputs": [
    {
     "name": "stdout",
     "output_type": "stream",
     "text": [
      "[]\n"
     ]
    }
   ],
   "source": [
    "original_list = list(range(1, 100))\n",
    "new_list = []\n",
    "\n",
    "for i in original_list:\n",
    "    if bin(i ** 2)[-5:] == '00011':  \n",
    "        new_list.append(i ** 2)\n",
    "\n",
    "print(new_list)"
   ]
  },
  {
   "cell_type": "code",
   "execution_count": 40,
   "id": "1d40e0e6-4732-4585-a6fa-0d038469f327",
   "metadata": {},
   "outputs": [
    {
     "name": "stdout",
     "output_type": "stream",
     "text": [
      "[169, 676, 1444, 2209, 2601, 2704, 2809, 6561, 6724, 6889, 8100]\n"
     ]
    }
   ],
   "source": [
    "original_list = list(range(1, 100))\n",
    "new_list = []\n",
    "\n",
    "for i in original_list:\n",
    "    square = i ** 2\n",
    "    if square%10 == '9' or bin(square)[-2:] == '11' or 'a' in hex(square):\n",
    "        new_list.append(square)\n",
    "\n",
    "print(new_list)\n"
   ]
  },
  {
   "cell_type": "code",
   "execution_count": 41,
   "id": "68e677ff-2bbc-46b9-b7c3-bc6d2b62e455",
   "metadata": {},
   "outputs": [
    {
     "name": "stdout",
     "output_type": "stream",
     "text": [
      "[9, 49, 169, 289, 529, 676, 729, 1089, 1369, 1444, 1849, 2209, 2601, 2704, 2809, 3249, 3969, 4489, 5329, 5929, 6561, 6724, 6889, 7569, 8100, 8649, 9409]\n"
     ]
    }
   ],
   "source": [
    "original_list = list(range(1, 100))\n",
    "new_list = []\n",
    "\n",
    "for i in original_list:\n",
    "    square = i ** 2\n",
    "    if square % 10 == 9 or bin(square)[-2:] == '11' or 'a' in hex(square):\n",
    "        new_list.append(square)\n",
    "\n",
    "print(new_list)\n"
   ]
  },
  {
   "cell_type": "code",
   "execution_count": null,
   "id": "291393f6-57aa-4524-a416-44aebebe2a32",
   "metadata": {},
   "outputs": [],
   "source": [
    "number_list = [245, 532, 17, 789, 321, 874, 99, 450, 666, 123]\n",
    "original_id = id(number_list)\n",
    "\n",
    "for num in number_listinput_list = [1, 2, 3, 4, 5, 6]\n",
    "\n",
    "# Reverse the list\n",
    "input_list.reverse()\n",
    "\n",
    "# Increase all even numbers by 1\n",
    "for i in range(len(input_list)):\n",
    "    if input_list[i] % 2 == 0:\n",
    "        input_list[i] += 1\n",
    "\n",
    "print(input_list):\n",
    "    binary_representation = bin(num)[2:]  # Получаем двоичное представление числа, исключая префикс '0b'\n",
    "    count_ones = binary_representation.count('1')\n",
    "    if count_ones > 3:\n",
    "        number_list.remove(num)\n",
    "\n",
    "# Проверяем, что id() списка осталось прежним\n",
    "assert id(number_list) == original_id\n",
    "\n",
    "print(number_list)\n"
   ]
  },
  {
   "cell_type": "code",
   "execution_count": 42,
   "id": "1759eb9d-c90c-4b67-9354-01ae3ff63f5d",
   "metadata": {},
   "outputs": [
    {
     "name": "stdout",
     "output_type": "stream",
     "text": [
      "[7, 5, 5, 3, 3, 1]\n"
     ]
    }
   ],
   "source": [
    "input_list = [1, 2, 3, 4, 5, 6]\n",
    "\n",
    "input_list.reverse()\n",
    "for i in range(len(input_list)):\n",
    "    if input_list[i] % 2 == 0:\n",
    "        input_list[i] += 1\n",
    "\n",
    "print(input_list) \n"
   ]
  },
  {
   "cell_type": "code",
   "execution_count": null,
   "id": "403b42b6-8f79-4b4d-93c0-d27f101a8495",
   "metadata": {},
   "outputs": [],
   "source": [
    "\n",
    "6. You have two sorted lists of words. Use a For-Loop to concatenate the lists, ensuring that the algorithm creates a sorted overall list.\n",
    "\n",
    "    \n",
    "Example: python list1 = ['Apple', 'Banana', 'Kiwi'] list2 = ['Strawberry', 'Orange', 'Peach'] # Expected output: ['Apple', 'Banana', 'Kiwi', 'Orange', 'Peach', 'Strawberry']"
   ]
  },
  {
   "cell_type": "code",
   "execution_count": 49,
   "id": "0712c0dc-537b-4e5e-b426-c584cbe3624f",
   "metadata": {},
   "outputs": [
    {
     "name": "stdout",
     "output_type": "stream",
     "text": [
      "[['Apple', 'Banana', 'Kiwi', 'Strawberry', 'Orange', 'Peach']]\n"
     ]
    }
   ],
   "source": [
    "list1 = ['Apple', 'Banana', 'Kiwi']\n",
    "list2 = ['Strawberry', 'Orange', 'Peach']\n",
    "\n",
    "new_list = [list1 + list2]\n",
    "# for word in list1:\n",
    "#     new_list.append(word)\n",
    "# for word in list2:\n",
    "#     new_list.append(word)\n",
    "sorted_list = sorted(new_list)\n",
    "\n",
    "print(sorted_list) "
   ]
  },
  {
   "cell_type": "code",
   "execution_count": null,
   "id": "97efba45-0ba4-433c-beb0-eceb5c894330",
   "metadata": {},
   "outputs": [],
   "source": [
    "\n",
    "To find the largest and smallest numbers in the list num_list without using the built-in functions min(), max(), or sorting methods, you can manually iterate through the list and keep track of the largest and smallest numbers encountered so far. Here's how you can do it:\n",
    "\n",
    "python\n",
    "Copy code\n",
    "num_list = [1, 2, 3, 4, 5, 6, 7, 8, 9]\n",
    "\n",
    "# Initialize variables to store the largest and smallest numbers\n",
    "largest = num_list[0]\n",
    "smallest = num_list[0]\n",
    "\n",
    "# Iterate through the list to find the largest and smallest numbers\n",
    "for num in num_list:\n",
    "    if num > largest:\n",
    "        largest = num\n",
    "    elif num < smallest:\n",
    "        smallest = num\n",
    "\n",
    "print(\"Largest number:\", largest)\n",
    "print(\"Smallest number:\", smallest)\n",
    "\n",
    "# Проходим по списку с помощью enumerate() и удваиваем значение каждого третьего элемента\n",
    "for index, value in enumerate(num_list):\n",
    "    if (index + 1) % 3 == 0:  # Проверяем, является ли текущий элемент третьим\n",
    "        num_list[index] *= 2  # Удваиваем значение текущего элемента\n",
    "\n",
    "print(num_list) "
   ]
  },
  {
   "cell_type": "code",
   "execution_count": null,
   "id": "aa4e6ce0-e50f-447a-aaef-b13e13f71ab7",
   "metadata": {},
   "outputs": [],
   "source": [
    "num_list = [1, 2, 3, 4, 5, 6, 7, 8, 9]\n",
    "\n",
    "for index, value in enumerate(num_list):\n",
    "    if (index + 1) % 3 == 0: \n",
    "        \n",
    "        num_list[index] *= 2 \n",
    "print(num_list)  # Ожидаемый результат: [1, 2, 6, 4, 5, 12, 7, 8, 18]\n"
   ]
  },
  {
   "cell_type": "code",
   "execution_count": 51,
   "id": "02629751-1291-46c1-a478-78b9878fca24",
   "metadata": {},
   "outputs": [
    {
     "ename": "TypeError",
     "evalue": "'int' object is not subscriptable",
     "output_type": "error",
     "traceback": [
      "\u001b[0;31m---------------------------------------------------------------------------\u001b[0m",
      "\u001b[0;31mTypeError\u001b[0m                                 Traceback (most recent call last)",
      "Cell \u001b[0;32mIn[51], line 9\u001b[0m\n\u001b[1;32m      7\u001b[0m \u001b[38;5;66;03m# Iterate through the list to find the largest and smallest numbers\u001b[39;00m\n\u001b[1;32m      8\u001b[0m \u001b[38;5;28;01mfor\u001b[39;00m num \u001b[38;5;129;01min\u001b[39;00m num_list:\n\u001b[0;32m----> 9\u001b[0m     \u001b[38;5;28;01mif\u001b[39;00m num \u001b[38;5;241m>\u001b[39m \u001b[43mnum_list\u001b[49m\u001b[43m[\u001b[49m\u001b[38;5;241;43m0\u001b[39;49m\u001b[43m]\u001b[49m:\n\u001b[1;32m     10\u001b[0m         num_list \u001b[38;5;241m=\u001b[39m num\n\u001b[1;32m     11\u001b[0m     \u001b[38;5;28;01melif\u001b[39;00m num \u001b[38;5;241m<\u001b[39m num_list[\u001b[38;5;241m0\u001b[39m]:\n",
      "\u001b[0;31mTypeError\u001b[0m: 'int' object is not subscriptable"
     ]
    }
   ],
   "source": [
    "num_list = [1, 2, 3, 4, 5, 6, 7, 8, 9]\n",
    "\n",
    "# Initialize variables to store the largest and smallest numbers\n",
    "largest = num_list[0]\n",
    "smallest = num_list[0]\n",
    "\n",
    "# Iterate through the list to find the largest and smallest numbers\n",
    "for num in num_list:\n",
    "    if num > num_list[0]:\n",
    "        num_list = \n",
    "    elif num < num_list[0]:\n",
    "        num_list = num\n",
    "\n",
    "print(\"Largest number:\", lnum_list)\n",
    "print(\"Smallest number:\", num_list)\n"
   ]
  },
  {
   "cell_type": "code",
   "execution_count": null,
   "id": "0dc4ac98-b612-424d-a323-0072d8d124f7",
   "metadata": {},
   "outputs": [],
   "source": []
  }
 ],
 "metadata": {
  "kernelspec": {
   "display_name": "Python 3 (ipykernel)",
   "language": "python",
   "name": "python3"
  },
  "language_info": {
   "codemirror_mode": {
    "name": "ipython",
    "version": 3
   },
   "file_extension": ".py",
   "mimetype": "text/x-python",
   "name": "python",
   "nbconvert_exporter": "python",
   "pygments_lexer": "ipython3",
   "version": "3.12.1"
  }
 },
 "nbformat": 4,
 "nbformat_minor": 5
}

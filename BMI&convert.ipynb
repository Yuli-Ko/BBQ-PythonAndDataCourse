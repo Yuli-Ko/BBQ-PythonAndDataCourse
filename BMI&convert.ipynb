{
 "cells": [
  {
   "cell_type": "code",
   "execution_count": 19,
   "id": "74e7520b-b42f-4491-8f52-8f4fade315ad",
   "metadata": {},
   "outputs": [
    {
     "name": "stdin",
     "output_type": "stream",
     "text": [
      "Enter your name  y\n",
      "Enter your height messurment (inches or cm):  cm\n",
      "Enter your height :  9\n",
      "Enter your weight (pounds or kg):  kg\n",
      "Enter your weight:  77\n"
     ]
    },
    {
     "name": "stdout",
     "output_type": "stream",
     "text": [
      "9.0\n",
      "3.543307086614173\n",
      "77.0\n",
      "169.75608035415087\n"
     ]
    }
   ],
   "source": [
    "\n",
    "name = input(\"Enter your name \")\n",
    "height_messure = input(\"Enter your height messurment ( ft or cm): \")\n",
    "height_input = float(input(\"Enter your height : \"))\n",
    "\n",
    "weight_meassure = input(\"Enter your weight messurment (pounds or kg): \")\n",
    "weight_input = float(input(\"Enter your weight: \"))\n",
    "\n",
    "if height_messure == \"cm\":\n",
    "    height_metric = height_input\n",
    "    height_imp = height_input/2.54\n",
    "elif height_messure == \"ft\":\n",
    "    height_metric = height_input*2.54\n",
    "    height_imp = height_input\n",
    "\n",
    "if weight_meassure == \"kg\":\n",
    "    weight_metric = weight_input\n",
    "    weight_imp = weight_input/0.453592\n",
    "elif weight_meassure == \"pounds\":\n",
    "    weight_metric = weight_input*0.453592\n",
    "    weight_imp = weight_input\n",
    "\n",
    "BMI = weight_imp / ((height_imp/ 100) ** 2)\n",
    "\n",
    "print(height_metric)\n",
    "print(height_imp)\n",
    "print(weight_metric)\n",
    "print(weight_imp)\n",
    "# height_cm = height_inches * 2.54\n",
    "# weight_kg = weight_pounds * 0.453592\n",
    "# BMI = weight_kg / (height_cm / 100)**2\n",
    "\n",
    "\n",
    "# print(f\"\\nHeight: {height_cm:.2f} cm\\nWeight: {weight_kg:} kg\\nBMI: {BMI:}\")\n",
    "\n"
   ]
  },
  {
   "cell_type": "code",
   "execution_count": null,
   "id": "160f3975-ba26-45e0-9095-440ffefbd9fa",
   "metadata": {},
   "outputs": [],
   "source": []
  },
  {
   "cell_type": "code",
   "execution_count": null,
   "id": "7f688a90-c7e0-4111-a52d-f685488d2da3",
   "metadata": {},
   "outputs": [],
   "source": []
  },
  {
   "cell_type": "code",
   "execution_count": null,
   "id": "4dfc54b8-64f5-4892-a68b-1152055bd6bd",
   "metadata": {},
   "outputs": [],
   "source": []
  }
 ],
 "metadata": {
  "kernelspec": {
   "display_name": "Python 3 (ipykernel)",
   "language": "python",
   "name": "python3"
  },
  "language_info": {
   "codemirror_mode": {
    "name": "ipython",
    "version": 3
   },
   "file_extension": ".py",
   "mimetype": "text/x-python",
   "name": "python",
   "nbconvert_exporter": "python",
   "pygments_lexer": "ipython3",
   "version": "3.12.1"
  }
 },
 "nbformat": 4,
 "nbformat_minor": 5
}

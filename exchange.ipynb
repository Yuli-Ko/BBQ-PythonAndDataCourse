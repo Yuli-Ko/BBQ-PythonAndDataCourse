{
 "cells": [
  {
   "cell_type": "code",
   "execution_count": 19,
   "id": "c5d127d2-8e3d-480b-a2c3-22f2ea265ffb",
   "metadata": {},
   "outputs": [
    {
     "name": "stdin",
     "output_type": "stream",
     "text": [
      "Enter the amount:  70\n",
      "Enter the source currency (eur, cad, hrivnia):  eur\n",
      "Enter the target currency (eur, cad, hrivnia):  cad\n"
     ]
    },
    {
     "name": "stdout",
     "output_type": "stream",
     "text": [
      "70.0 eur is equal to 43.75 cad\n"
     ]
    },
    {
     "name": "stdin",
     "output_type": "stream",
     "text": [
      "Do you want to finish entering data? (yes/no):  yes\n"
     ]
    },
    {
     "name": "stdout",
     "output_type": "stream",
     "text": [
      "Transactions is:[{'amount': 70.0, 'from_currency': 'eur', 'to_currency': 'cad', 'converted_amount': 43.75}]\n"
     ]
    }
   ],
   "source": [
    "exchange = {\n",
    "'eur':1.2,\n",
    "'cad':0.75,\n",
    "'hrivnia':0.04}\n",
    "user_list = [ ]\n",
    "while True:\n",
    "    amount = float(input(\"Enter the amount: \"))\n",
    "    from_currency = input(\"Enter the source currency (eur, cad, hrivnia): \")\n",
    "    to_currency = input(\"Enter the target currency (eur, cad, hrivnia): \")\n",
    "    converted_amount = amount * exchange[to_currency] / exchange[from_currency]\n",
    "    user_list.append({\"amount\": amount, \"from_currency\": from_currency, \"to_currency\": to_currency, \"converted_amount\": converted_amount})\n",
    "    print(f\"{amount} {from_currency} is equal to {converted_amount:} {to_currency}\")\n",
    "    finish_input = input(\"Do you want to finish entering data? (yes/no): \")\n",
    "    if finish_input == 'yes':\n",
    "        break\n",
    "print(f\"Transactions is:{user_list}\")\n",
    "\n"
   ]
  },
  {
   "cell_type": "code",
   "execution_count": null,
   "id": "0011e248-cfdf-4cea-9d2b-915f61d658c1",
   "metadata": {},
   "outputs": [],
   "source": []
  },
  {
   "cell_type": "code",
   "execution_count": null,
   "id": "db06af5b-121d-4217-bbf7-a0b5c39136c6",
   "metadata": {},
   "outputs": [],
   "source": []
  }
 ],
 "metadata": {
  "kernelspec": {
   "display_name": "Python 3 (ipykernel)",
   "language": "python",
   "name": "python3"
  },
  "language_info": {
   "codemirror_mode": {
    "name": "ipython",
    "version": 3
   },
   "file_extension": ".py",
   "mimetype": "text/x-python",
   "name": "python",
   "nbconvert_exporter": "python",
   "pygments_lexer": "ipython3",
   "version": "3.12.1"
  }
 },
 "nbformat": 4,
 "nbformat_minor": 5
}

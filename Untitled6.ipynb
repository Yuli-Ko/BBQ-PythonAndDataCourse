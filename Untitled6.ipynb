{
 "cells": [
  {
   "cell_type": "code",
   "execution_count": 21,
   "id": "48afe3d1-8b5f-4582-8b25-f900f032cbe2",
   "metadata": {},
   "outputs": [
    {
     "name": "stdout",
     "output_type": "stream",
     "text": [
      "{'Киев': ['Черновцы', 'Львов', 'Сумы', 'Хмельницкий'], 'Львов': ['Черновцы', 'Житомир', 'Ивано-Франковск', 'Херсон'], 'Одесса': ['Ужгород', 'Кропивницкий', 'Харьков', 'Херсон', 'Тернополь'], 'Харьков': ['Черновцы', 'Ивано-Франковск', 'Кропивницкий', 'Харьков', 'Киев', 'Сумы', 'Днепр', 'Запорожье', 'Львов', 'Херсон', 'Винница', 'Тернополь', 'Полтава', 'Николаев', 'Житомир', 'Ужгород', 'Хмельницкий', 'Луцк'], 'Днепр': ['Ивано-Франковск', 'Николаев', 'Днепр', 'Сумы', 'Луцк', 'Кропивницкий', 'Винница', 'Ужгород', 'Тернополь', 'Одесса', 'Киев', 'Херсон', 'Черновцы'], 'Луцк': ['Винница', 'Днепр', 'Херсон', 'Ивано-Франковск', 'Николаев', 'Черновцы', 'Луцк', 'Одесса'], 'Хмельницкий': ['Харьков', 'Николаев'], 'Запорожье': ['Львов', 'Харьков', 'Николаев', 'Винница'], 'Херсон': ['Днепр'], 'Черновцы': ['Киев', 'Черновцы', 'Винница'], 'Житомир': ['Житомир', 'Запорожье', 'Днепр', 'Одесса', 'Луцк', 'Полтава', 'Ивано-Франковск', 'Киев', 'Винница', 'Львов', 'Херсон', 'Ужгород', 'Тернополь', 'Хмельницкий', 'Кропивницкий', 'Николаев', 'Черновцы', 'Харьков', 'Сумы'], 'Ивано-Франковск': ['Ивано-Франковск', 'Днепр', 'Тернополь', 'Ужгород', 'Львов', 'Харьков', 'Херсон', 'Житомир', 'Луцк', 'Киев', 'Кропивницкий', 'Запорожье', 'Сумы', 'Хмельницкий'], 'Кропивницкий': ['Винница', 'Ужгород', 'Черновцы', 'Сумы', 'Хмельницкий', 'Киев', 'Львов', 'Тернополь', 'Житомир', 'Днепр', 'Харьков', 'Одесса', 'Кропивницкий', 'Херсон'], 'Сумы': ['Сумы', 'Полтава', 'Харьков', 'Одесса', 'Кропивницкий', 'Луцк', 'Запорожье', 'Ужгород', 'Днепр', 'Киев', 'Львов', 'Винница', 'Ивано-Франковск'], 'Полтава': ['Запорожье', 'Херсон', 'Кропивницкий'], 'Ужгород': ['Сумы', 'Киев', 'Черновцы', 'Николаев', 'Херсон', 'Кропивницкий', 'Луцк', 'Житомир', 'Ужгород', 'Харьков', 'Полтава', 'Львов', 'Одесса', 'Запорожье'], 'Винница': ['Луцк', 'Ивано-Франковск', 'Полтава'], 'Тернополь': ['Херсон', 'Львов', 'Луцк', 'Николаев', 'Одесса', 'Винница', 'Киев', 'Сумы', 'Днепр', 'Тернополь'], 'Николаев': ['Львов', 'Черновцы', 'Харьков', 'Кропивницкий', 'Винница', 'Херсон', 'Ужгород', 'Тернополь', 'Житомир', 'Ивано-Франковск', 'Днепр', 'Одесса', 'Запорожье', 'Хмельницкий', 'Киев', 'Николаев', 'Полтава']}\n"
     ]
    }
   ],
   "source": [
    "import random\n",
    "\n",
    "# Города\n",
    "cities = [\"Киев\", \"Львов\", \"Одесса\", \"Харьков\", \"Днепр\", \"Луцк\", \"Хмельницкий\", \"Запорожье\",\n",
    "          \"Херсон\", \"Черновцы\", \"Житомир\", \"Ивано-Франковск\", \"Кропивницкий\", \"Сумы\",\n",
    "          \"Полтава\", \"Ужгород\", \"Винница\", \"Тернополь\", \"Николаев\"]\n",
    "\n",
    "# Создаем словарь с городами и их соединениями\n",
    "autobus_connections_dict = {city: random.sample(cities, random.randint(1, len(cities))) for city in cities}\n",
    "print(autobus_connections_dict)\n",
    "\n"
   ]
  },
  {
   "cell_type": "code",
   "execution_count": null,
   "id": "248a0729-e593-4a17-8deb-bb33ff9015e0",
   "metadata": {},
   "outputs": [],
   "source": []
  },
  {
   "cell_type": "code",
   "execution_count": 33,
   "id": "f86099c1-6407-4e4b-96d5-514d2004cc8d",
   "metadata": {},
   "outputs": [
    {
     "name": "stdout",
     "output_type": "stream",
     "text": [
      "{'Pizza': ['Frank', 'Eva'], 'Burger': ['Frank', 'Bob'], 'Salat': ['Frank', 'Alice'], 'Sushi': ['Alice'], 'Pasta': ['Alice'], 'Steak': ['Bob'], 'Ice Cream': ['Bob', 'Eva'], 'Fries': ['Eva']}\n"
     ]
    }
   ],
   "source": [
    "favorite_foods= {\n",
    "    'Frank': [\"Pizza\", \"Burger\", \"Salat\"],\n",
    "    'Alice': [\"Sushi\", \"Pasta\", \"Salat\"],\n",
    "    'Bob': [\"Burger\", \"Steak\", \"Ice Cream\"],\n",
    "    'Eva': [\"Pizza\", \"Ice Cream\", \"Fries\"]\n",
    "}\n",
    "\n",
    "favorite = {}\n",
    "for name, foods in favorite_foods.items():\n",
    "    for food in foods:\n",
    "        if food in favorite:\n",
    "            names=favorite[food]\n",
    "            names.append(name)\n",
    "        else:\n",
    "            names=[]\n",
    "            names.append(name)\n",
    "            favorite.update({food:names})\n",
    "\n",
    "print(favorite)"
   ]
  },
  {
   "cell_type": "code",
   "execution_count": 1,
   "id": "6736318f-a38e-419d-b4b4-908d68283f59",
   "metadata": {},
   "outputs": [
    {
     "data": {
      "text/plain": [
       "{'Name': 'Max Mustermann',\n",
       " 'Alter': 30,\n",
       " 'Geschlecht': 'männlich',\n",
       " 'Beruf': 'Softwareentwickler',\n",
       " 'Stadt': 'Musterstadt',\n",
       " 'numer': '1231233'}"
      ]
     },
     "execution_count": 1,
     "metadata": {},
     "output_type": "execute_result"
    }
   ],
   "source": [
    " person_info = {\n",
    "    'Name': 'Max Mustermann',\n",
    "    'Alter': 30,\n",
    "    'Geschlecht': 'männlich',\n",
    "    'Beruf': 'Ingenieur',\n",
    "    'Stadt': 'Musterstadt'\n",
    "}\n",
    "person_info[\"Beruf\"] = \"Softwareentwickler\"\n",
    "person_info[\"numer\"] = \"1231233\"\n",
    "person_info"
   ]
  },
  {
   "cell_type": "code",
   "execution_count": 30,
   "id": "e8f3da80-00db-46fb-8e6d-469d42d652d4",
   "metadata": {},
   "outputs": [
    {
     "name": "stdin",
     "output_type": "stream",
     "text": [
      "choose the shape(quadrat, circle, rhombus): rhombus\n",
      "length of the first diagonal:  9\n",
      "length of the 2 diagonal:  8\n"
     ]
    },
    {
     "name": "stdout",
     "output_type": "stream",
     "text": [
      "S rhombus= 81.0\n"
     ]
    }
   ],
   "source": [
    "import math\n",
    "\n",
    "\n",
    "# s_quadrat = length_quadrat**2\n",
    "# s_krug =  math.pi * (radius ** 2)\n",
    "# s_romb = diagonal_romb1*diagonal_romb1\n",
    "# #\n",
    "# # s_quadrat = length_quadrat ** 2\n",
    "# s_krug = math.pi * (radius ** 2)\n",
    "# s_romb = diagonal_romb1*diagonal_romb1\n",
    "\n",
    "\n",
    "shape = input(\"choose the shape(quadrat, circle, rhombus):\")\n",
    "\n",
    "listOfShape = [\n",
    "    ()\n",
    "]\n",
    "\n",
    "if shape == \"quadrat\":\n",
    "    length_quadrat = float(input(\"length of the square: \"))\n",
    "    print(\"S quadrat=\", length_quadrat** 2)\n",
    "if shape == \"circle\":\n",
    "    radius = float(input(\"radius of the circle: \"))\n",
    "    print(\"S circle=\", math.pi*radius**2)\n",
    "if shape == \"rhombus\":\n",
    "    diagonal_romb1 = float(input(\"length of the first diagonal: \"))\n",
    "    diagonal_romb2 = float(input(\"length of the 2 diagonal: \"))\n",
    "    print(\"S rhombus=\", diagonal_romb1*diagonal_romb1)\n",
    "else:\n",
    "    print(\"error\")\n",
    "\n",
    "def square(Shape):\n",
    "\n"
   ]
  },
  {
   "cell_type": "code",
   "execution_count": null,
   "id": "2369fe9f-abca-4ee4-8de1-9ddfb9e1b7c4",
   "metadata": {},
   "outputs": [],
   "source": [
    "length_quadrat = int(input(\"length of the square: \"))\n",
    "print(\"S quadrat=\" + length_quadrat**2)\n"
   ]
  },
  {
   "cell_type": "code",
   "execution_count": 25,
   "id": "a2f8286f-8670-46e0-a480-7c6e4c9ab281",
   "metadata": {},
   "outputs": [
    {
     "name": "stdin",
     "output_type": "stream",
     "text": [
      "length of the square:  9\n"
     ]
    },
    {
     "name": "stdout",
     "output_type": "stream",
     "text": [
      "S quadrat= 81\n"
     ]
    }
   ],
   "source": [
    "length_quadrat = int(input(\"length of the square: \"))\n",
    "print(\"S quadrat=\", length_quadrat**2)\n"
   ]
  },
  {
   "cell_type": "code",
   "execution_count": 34,
   "id": "1c2adc05-783e-40c0-88b6-2ed7a1845a47",
   "metadata": {},
   "outputs": [
    {
     "data": {
      "text/plain": [
       "100"
      ]
     },
     "execution_count": 34,
     "metadata": {},
     "output_type": "execute_result"
    }
   ],
   "source": [
    "class Shape():\n",
    "    def area(self):\n",
    "        print(\"Not implemented\")\n",
    "        pass\n",
    "\n",
    "class Square(Shape):\n",
    "    def __init__(self, sideLength):\n",
    "        self.sideLength = sideLength\n",
    "\n",
    "    def area(self):\n",
    "        return self.sideLength*self.sideLength;\n",
    "\n",
    "\n",
    "\n",
    "square = Square(10)\n",
    "square.sideLength\n",
    "square.area()\n",
    "    "
   ]
  },
  {
   "cell_type": "code",
   "execution_count": 44,
   "id": "4da71f1b-f00f-4c5e-902a-6bed14f27a31",
   "metadata": {},
   "outputs": [
    {
     "ename": "IndentationError",
     "evalue": "expected an indented block after 'else' statement on line 7 (1014726543.py, line 8)",
     "output_type": "error",
     "traceback": [
      "\u001b[0;36m  Cell \u001b[0;32mIn[44], line 8\u001b[0;36m\u001b[0m\n\u001b[0;31m    pass\u001b[0m\n\u001b[0m    ^\u001b[0m\n\u001b[0;31mIndentationError\u001b[0m\u001b[0;31m:\u001b[0m expected an indented block after 'else' statement on line 7\n"
     ]
    }
   ],
   "source": [
    "list1 = [1, 2, 3, 4, 5]\n",
    "list2 = [6, 7, 8, 9, 10]\n",
    "for i in range(len(list1)):\n",
    "    if elem in (len(list1)):\n",
    "        sum_list = [list1[i] + list2[i+1]]\n",
    "        sum_list\n",
    "    else:\n",
    "    pass\n"
   ]
  },
  {
   "cell_type": "code",
   "execution_count": null,
   "id": "30e40255-0348-4f98-a88d-362bdbdcf811",
   "metadata": {},
   "outputs": [],
   "source": []
  },
  {
   "cell_type": "code",
   "execution_count": 47,
   "id": "cfb5e40e-d0f2-4295-b817-95cb613a94ae",
   "metadata": {},
   "outputs": [
    {
     "ename": "IndexError",
     "evalue": "list index out of range",
     "output_type": "error",
     "traceback": [
      "\u001b[0;31m---------------------------------------------------------------------------\u001b[0m",
      "\u001b[0;31mIndexError\u001b[0m                                Traceback (most recent call last)",
      "Cell \u001b[0;32mIn[47], line 7\u001b[0m\n\u001b[1;32m      5\u001b[0m \u001b[38;5;28;01mfor\u001b[39;00m i \u001b[38;5;129;01min\u001b[39;00m \u001b[38;5;28mrange\u001b[39m(\u001b[38;5;28mlen\u001b[39m(list1)):\n\u001b[1;32m      6\u001b[0m     \u001b[38;5;28;01mif\u001b[39;00m i \u001b[38;5;241m<\u001b[39m \u001b[38;5;28mlen\u001b[39m(list1):\n\u001b[0;32m----> 7\u001b[0m         sum_list\u001b[38;5;241m.\u001b[39mappend(list1[i] \u001b[38;5;241m+\u001b[39m \u001b[43mlist2\u001b[49m\u001b[43m[\u001b[49m\u001b[43mi\u001b[49m\u001b[43m \u001b[49m\u001b[38;5;241;43m+\u001b[39;49m\u001b[43m \u001b[49m\u001b[38;5;241;43m1\u001b[39;49m\u001b[43m]\u001b[49m)\n\u001b[1;32m      8\u001b[0m     \u001b[38;5;28;01mif\u001b[39;00m i \u001b[38;5;241m>\u001b[39m \u001b[38;5;28mlen\u001b[39m(list1):\n\u001b[1;32m      9\u001b[0m         sum_list\u001b[38;5;241m.\u001b[39mappend(list1[i] \u001b[38;5;241m+\u001b[39m list2[\u001b[38;5;241m0\u001b[39m])\n",
      "\u001b[0;31mIndexError\u001b[0m: list index out of range"
     ]
    }
   ],
   "source": [
    "list1 = [1, 2, 3, 4, 5]\n",
    "list2 = [6, 7, 8, 9, 10]\n",
    "sum_list = []\n",
    "\n",
    "for i in range(len(list1)):\n",
    "    if i < len(list1):\n",
    "        sum_list.append(list1[i] + list2[i + 1])\n",
    "    if i > len(list1):\n",
    "        sum_list.append(list1[i] + list2[0])\n",
    "\n",
    "\n",
    "print(sum_list)"
   ]
  },
  {
   "cell_type": "code",
   "execution_count": 49,
   "id": "09da0ebb-8d5e-4254-91d1-cfc5b2af581e",
   "metadata": {},
   "outputs": [
    {
     "name": "stdout",
     "output_type": "stream",
     "text": [
      "[8, 10, 12, 14, 11]\n"
     ]
    }
   ],
   "source": [
    "list1 = [1, 2, 3, 4, 5]\n",
    "list2 = [6, 7, 8, 9, 10]\n",
    "sum_list = []\n",
    "\n",
    "for i in range(len(list1)):\n",
    "    if i < len(list1) - 1:\n",
    "        sum_list.append(list1[i] + list2[i + 1])\n",
    "    else:\n",
    "        sum_list.append(list1[i] + list2[0])\n",
    "\n",
    "print(sum_list)\n"
   ]
  },
  {
   "cell_type": "code",
   "execution_count": 50,
   "id": "f218305d-eec5-4a75-acb9-ea1da49cef69",
   "metadata": {},
   "outputs": [
    {
     "ename": "SyntaxError",
     "evalue": "leading zeros in decimal integer literals are not permitted; use an 0o prefix for octal integers (174581224.py, line 1)",
     "output_type": "error",
     "traceback": [
      "\u001b[0;36m  Cell \u001b[0;32mIn[50], line 1\u001b[0;36m\u001b[0m\n\u001b[0;31m    [15:03] Phillipp Enders\u001b[0m\n\u001b[0m        ^\u001b[0m\n\u001b[0;31mSyntaxError\u001b[0m\u001b[0;31m:\u001b[0m leading zeros in decimal integer literals are not permitted; use an 0o prefix for octal integers\n"
     ]
    }
   ],
   "source": [
    "[15:03] Phillipp Enders\n",
    "import random\n",
    "\n",
    "random.seed(42)\n",
    " \n",
    "liste = [random.randint(-100,100) for i in range(30)]\n",
    "liste2.append(list1[i] ==< 42 )\n",
    "threshold  = 42"
   ]
  },
  {
   "cell_type": "code",
   "execution_count": 56,
   "id": "340bfe17-36b1-4c72-a102-caaeb5099659",
   "metadata": {},
   "outputs": [
    {
     "name": "stdout",
     "output_type": "stream",
     "text": [
      "Original list: [63, -72, -94, 89, -30, -38, -43, -65, 88, -74, 73, 89, 39, -78, 51, 8, -92, -93, -77, -45, -41, 29, 54, -94, 43, -50, 83, 66, 79, 39]\n",
      "List of booleans (<= 42): [False, True, True, False, True, True, True, True, False, True, False, False, True, True, False, True, True, True, True, True, True, True, False, True, False, True, False, False, False, True, <generator object <genexpr> at 0x10827ef60>, <generator object <genexpr> at 0x10827f510>, <generator object <genexpr> at 0x1082d8ad0>, <generator object <genexpr> at 0x10825a740>, <generator object <genexpr> at 0x1081d3850>]\n"
     ]
    }
   ],
   "source": [
    "import random\n",
    "\n",
    "random.seed(42)\n",
    "\n",
    "liste = [random.randint(-100, 100) for i in range(30)]\n",
    "liste2.append(element <= 42 for element in liste)\n",
    "\n",
    "\n",
    "print(\"Original list:\", liste)\n",
    "print(\"List of booleans (<= 42):\", liste2)\n"
   ]
  },
  {
   "cell_type": "code",
   "execution_count": 58,
   "id": "e66bf02d-7b4c-4ed6-904b-1fc5a2d47983",
   "metadata": {},
   "outputs": [
    {
     "ename": "AttributeError",
     "evalue": "'list' object has no attribute 'startswith'",
     "output_type": "error",
     "traceback": [
      "\u001b[0;31m---------------------------------------------------------------------------\u001b[0m",
      "\u001b[0;31mAttributeError\u001b[0m                            Traceback (most recent call last)",
      "Cell \u001b[0;32mIn[58], line 3\u001b[0m\n\u001b[1;32m      1\u001b[0m \u001b[38;5;28mlist\u001b[39m \u001b[38;5;241m=\u001b[39m [\u001b[38;5;124m\"\u001b[39m\u001b[38;5;124mda\u001b[39m\u001b[38;5;124m\"\u001b[39m,\u001b[38;5;124m\"\u001b[39m\u001b[38;5;124mdo\u001b[39m\u001b[38;5;124m\"\u001b[39m,\u001b[38;5;124m\"\u001b[39m\u001b[38;5;124mdaddd\u001b[39m\u001b[38;5;124m\"\u001b[39m]\n\u001b[0;32m----> 3\u001b[0m \u001b[38;5;28;43mlist\u001b[39;49m\u001b[38;5;241;43m.\u001b[39;49m\u001b[43mstartswith\u001b[49m(\u001b[38;5;28mstr\u001b[39m, beg\u001b[38;5;241m=\u001b[39m\u001b[38;5;241m0\u001b[39m,end\u001b[38;5;241m=\u001b[39m\u001b[38;5;28mlen\u001b[39m(string));\n",
      "\u001b[0;31mAttributeError\u001b[0m: 'list' object has no attribute 'startswith'"
     ]
    }
   ],
   "source": [
    "list = [\"da\",\"do\",\"daddd\"]\n",
    "\n"
   ]
  },
  {
   "cell_type": "code",
   "execution_count": 64,
   "id": "7f3441ce-b568-4bcf-bb2a-50f757b8fa0d",
   "metadata": {},
   "outputs": [
    {
     "name": "stdout",
     "output_type": "stream",
     "text": [
      "[0]\n",
      "[0, 4]\n",
      "[0, 4, 16]\n",
      "[0, 4, 16, 36]\n",
      "[0, 4, 16, 36, 64]\n",
      "[0, 4, 16, 36, 64, 100]\n",
      "[0, 4, 16, 36, 64, 100, 144]\n",
      "[0, 4, 16, 36, 64, 100, 144, 196]\n",
      "[0, 4, 16, 36, 64, 100, 144, 196, 256]\n",
      "[0, 4, 16, 36, 64, 100, 144, 196, 256, 324]\n"
     ]
    }
   ],
   "source": [
    "list= []\n",
    "for i in range(0,20):\n",
    "    if i%2 == 0:\n",
    "        list.append(i**2) \n",
    "        print(list)"
   ]
  },
  {
   "cell_type": "code",
   "execution_count": null,
   "id": "d39b9b73-edd8-4460-a120-5e694fbf74b8",
   "metadata": {},
   "outputs": [],
   "source": [
    "Ozerna20!"
   ]
  }
 ],
 "metadata": {
  "kernelspec": {
   "display_name": "Python 3 (ipykernel)",
   "language": "python",
   "name": "python3"
  },
  "language_info": {
   "codemirror_mode": {
    "name": "ipython",
    "version": 3
   },
   "file_extension": ".py",
   "mimetype": "text/x-python",
   "name": "python",
   "nbconvert_exporter": "python",
   "pygments_lexer": "ipython3",
   "version": "3.12.1"
  }
 },
 "nbformat": 4,
 "nbformat_minor": 5
}

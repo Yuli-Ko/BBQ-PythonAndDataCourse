{
 "cells": [
  {
   "cell_type": "code",
   "execution_count": null,
   "id": "1f1df1c3-3f0c-4a09-b56e-4dfd911fe44c",
   "metadata": {},
   "outputs": [],
   "source": [
    "import random\n",
    "\n",
    "random_numbers = [random.randint(1, 44) for _ in range(5)]\n",
    "\n",
    "names = {\n",
    "    \"Георгій Шварцман\": list(range(1, 8)),\n",
    "    \"Анна Суркова\": list(range(8, 10)),\n",
    "    \"Александр Ковташинец\": [10, 11, 12],\n",
    "    \"В'ячеслав Перетятко\": list(range(13, 17)),\n",
    "    \"Серёга Скивка\": list(range(17, 19)),\n",
    "    \"Рустам Рисов\": list(range(19, 24)),\n",
    "    \"Роман Прокопенко\":[24],\n",
    "    \"Тігран Коркотян\" : [25,26,27],\n",
    "    \"Наталья Штонда\": [28, 29],\n",
    "    \"Фелікс Рьомміг\": list(range(29, 44)),\n",
    "}\n",
    "\n",
    "selected_numbers = {}\n",
    "#selected_name = list(names.keys())\n",
    "my_flag = [28, 28, 28, 93, 93]\n",
    "available_names = list(names.keys())\n",
    "\n",
    "for i in range(5):\n",
    "    name = random.choice(available_names)\n",
    "    available_names.remove(name)\n",
    "    if name in names:\n",
    "        selected_numbers[name] = random.choice(names[name])\n",
    "        random_value = random.choice(my_flag) \n",
    "        print(f\"{name} отримає прапор з {random_value} бригади\")\n",
    "        my_flag.remove(random_value) \n",
    "\n",
    "        names[name].remove(selected_numbers[name])\n",
    "        if not names[name]:\n",
    "          \n",
    "            del names[name]\n",
    "\n"
   ]
  },
  {
   "cell_type": "code",
   "execution_count": null,
   "id": "2503ab9d-b092-4c15-83c2-c48f844a61e6",
   "metadata": {},
   "outputs": [],
   "source": [
    "# name = input(\"one of the most popular indoor houseplants: \")\n",
    "for char in name:\n",
    "    name = input(\"one of the most popular indoor houseplants: \")\n",
    "    if name == \"Spathiphyllum\":\n",
    "        print(\"Yes - Spathiphyllum is the best plant ever!\")\n",
    "        break\n",
    "    elif name == \"spathiphyllum\":\n",
    "        print(\"No, I want a big Spathiphyllum!\")\n",
    "        break\n",
    "    else:\n",
    "        print(f\"Spathiphyllum! Not {name}!\")\n",
    "        break"
   ]
  },
  {
   "cell_type": "code",
   "execution_count": null,
   "id": "e52318b3-9474-4762-99e0-0521794c49e0",
   "metadata": {},
   "outputs": [],
   "source": [
    "s='abc' \n",
    "for i in s: \n",
    "    s=s.upper() \n",
    "print(s)"
   ]
  },
  {
   "cell_type": "code",
   "execution_count": null,
   "id": "c324c902-4dbf-445d-99db-60bb02e1351f",
   "metadata": {},
   "outputs": [],
   "source": []
  },
  {
   "cell_type": "code",
   "execution_count": null,
   "id": "b4236464-863f-42be-a444-4f307952e66c",
   "metadata": {},
   "outputs": [],
   "source": []
  }
 ],
 "metadata": {
  "kernelspec": {
   "display_name": "Python 3 (ipykernel)",
   "language": "python",
   "name": "python3"
  },
  "language_info": {
   "codemirror_mode": {
    "name": "ipython",
    "version": 3
   },
   "file_extension": ".py",
   "mimetype": "text/x-python",
   "name": "python",
   "nbconvert_exporter": "python",
   "pygments_lexer": "ipython3",
   "version": "3.12.0"
  }
 },
 "nbformat": 4,
 "nbformat_minor": 5
}

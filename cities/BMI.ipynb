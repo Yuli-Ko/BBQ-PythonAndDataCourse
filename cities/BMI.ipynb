{
 "cells": [
  {
   "cell_type": "code",
   "execution_count": 96,
   "id": "79ba52cb-9c8f-4e3a-9b2d-b91fbccad1eb",
   "metadata": {},
   "outputs": [
    {
     "name": "stdin",
     "output_type": "stream",
     "text": [
      "Enter your name, weight in kilograms, and height in meters:  t 60 1.3\n"
     ]
    },
    {
     "name": "stdout",
     "output_type": "stream",
     "text": [
      "BMI for t is: 35.50295857988165\n"
     ]
    },
    {
     "name": "stdin",
     "output_type": "stream",
     "text": [
      "Do you want to finish entering data? (yes/no):  no\n",
      "Enter your name, weight in kilograms, and height in meters:  f 30 2.4\n"
     ]
    },
    {
     "name": "stdout",
     "output_type": "stream",
     "text": [
      "BMI for f is: 5.208333333333334\n"
     ]
    },
    {
     "name": "stdin",
     "output_type": "stream",
     "text": [
      "Do you want to finish entering data? (yes/no):  yes\n"
     ]
    },
    {
     "name": "stdout",
     "output_type": "stream",
     "text": [
      "[{'name': 't', 'weight': 60.0, 'height': 1.3, 'BMI': 35.50295857988165}, {'name': 'f', 'weight': 30.0, 'height': 2.4, 'BMI': 5.208333333333334}]\n"
     ]
    }
   ],
   "source": [
    "\n",
    "user_list = [ ]\n",
    "while True:\n",
    "    input_data = input(\"Enter your name, weight in kilograms, and height in meters: \")\n",
    "\n",
    "    name, weight_str, height_str = input_data.split( )\n",
    "    \n",
    "    weight = float(weight_str)\n",
    "    height = float(height_str)\n",
    "    \n",
    "    BMI = weight / height**2\n",
    "    user_list.append({\"name\": name, \"weight\": weight, \"height\": height, \"BMI\": BMI})\n",
    "    \n",
    "    print(f\"BMI for {name} is: {BMI}\")\n",
    "    finish_input = input(\"Do you want to finish entering data? (yes/no): \")\n",
    "\n",
    "    if finish_input == 'yes':\n",
    "        break\n",
    "print(user_list)\n",
    "\n"
   ]
  },
  {
   "cell_type": "code",
   "execution_count": null,
   "id": "95aa8c77-dac9-4b68-bedc-9baf45824423",
   "metadata": {},
   "outputs": [],
   "source": []
  },
  {
   "cell_type": "code",
   "execution_count": null,
   "id": "c3de6c29-ee59-47d2-9b33-5f645db8ddf8",
   "metadata": {},
   "outputs": [],
   "source": []
  },
  {
   "cell_type": "code",
   "execution_count": null,
   "id": "f8dd129c-eeeb-4902-9cd6-0891d6f482fb",
   "metadata": {},
   "outputs": [],
   "source": []
  }
 ],
 "metadata": {
  "kernelspec": {
   "display_name": "Python 3 (ipykernel)",
   "language": "python",
   "name": "python3"
  },
  "language_info": {
   "codemirror_mode": {
    "name": "ipython",
    "version": 3
   },
   "file_extension": ".py",
   "mimetype": "text/x-python",
   "name": "python",
   "nbconvert_exporter": "python",
   "pygments_lexer": "ipython3",
   "version": "3.12.1"
  }
 },
 "nbformat": 4,
 "nbformat_minor": 5
}

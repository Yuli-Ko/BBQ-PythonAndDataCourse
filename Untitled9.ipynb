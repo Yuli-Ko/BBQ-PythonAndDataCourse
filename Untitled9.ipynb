{
 "cells": [
  {
   "cell_type": "code",
   "execution_count": 9,
   "id": "3d7ed242-d3d7-4a90-ac2c-05c1bb6ebec4",
   "metadata": {},
   "outputs": [
    {
     "name": "stdout",
     "output_type": "stream",
     "text": [
      "20\n"
     ]
    }
   ],
   "source": [
    "import random\n",
    "\n",
    "vornamen = [\"Emma\", \"Liam\", \"Olivia\", \"Noah\", \"Ava\", \"William\", \"Isabella\", \"James\", \"Sophia\", \"Oliver\",\n",
    "            \"Charlotte\", \"Benjamin\", \"Amelia\", \"Elijah\", \"Mia\", \"Lucas\", \"Harper\", \"Mason\", \"Evelyn\", \"Logan\"]\n",
    "\n",
    "nachnamen = [\"Smith\", \"Johnson\", \"Williams\", \"Brown\", \"Jones\", \"Garcia\", \"Miller\", \"Davis\", \"Rodriguez\", \"Martinez\",\n",
    "             \"Hernandez\", \"Lopez\", \"Gonzalez\", \"Wilson\", \"Anderson\", \"Thomas\", \"Taylor\", \"Moore\", \"Jackson\", \"White\"]\n",
    "\n",
    "staedte = [\"New York\", \"Los Angeles\", \"Chicago\", \"Houston\", \"Phoenix\", \"Philadelphia\", \"San Antonio\", \"San Diego\",\n",
    "           \"Dallas\", \"San Jose\", \"Austin\", \"Jacksonville\", \"San Francisco\", \"Indianapolis\", \"Columbus\", \"Fort Worth\",\n",
    "           \"Charlotte\", \"Seattle\", \"Denver\", \"Washington\"]\n",
    "\n",
    "persons = []\n",
    "\n",
    "for vorname, nachname, stadt in zip(vornamen, nachnamen, staedte):\n",
    "    person_namen = random.choice(nachnamen)\n",
    "    person_vornamen = random.choice(vornamen)\n",
    "    person_st = random.choice(staedte)\n",
    "    person_age = random.randint(18,99)\n",
    "    persons.append((person_vornamen, person_namen, person_st,person_age))\n",
    "\n",
    "print(persons)\n",
    "\n"
   ]
  },
  {
   "cell_type": "code",
   "execution_count": 10,
   "id": "c8152acb-54c1-4a6a-8d8d-ce2ddb352bbf",
   "metadata": {},
   "outputs": [
    {
     "ename": "IndentationError",
     "evalue": "expected an indented block after function definition on line 1 (2900977574.py, line 2)",
     "output_type": "error",
     "traceback": [
      "\u001b[0;36m  Cell \u001b[0;32mIn[10], line 2\u001b[0;36m\u001b[0m\n\u001b[0;31m    if n == 1:\u001b[0m\n\u001b[0m    ^\u001b[0m\n\u001b[0;31mIndentationError\u001b[0m\u001b[0;31m:\u001b[0m expected an indented block after function definition on line 1\n"
     ]
    }
   ],
   "source": [
    "def f(n): \n",
    "if n == 1: \n",
    "return 1 \n",
    "return n + f(n-1)  \n",
    "print(f(2))"
   ]
  },
  {
   "cell_type": "code",
   "execution_count": 12,
   "id": "c14a7e68-3970-4070-9178-2e806b8903cc",
   "metadata": {},
   "outputs": [
    {
     "ename": "IndentationError",
     "evalue": "expected an indented block after 'for' statement on line 2 (4085532956.py, line 3)",
     "output_type": "error",
     "traceback": [
      "\u001b[0;36m  Cell \u001b[0;32mIn[12], line 3\u001b[0;36m\u001b[0m\n\u001b[0;31m    yield i\u001b[0m\n\u001b[0m    ^\u001b[0m\n\u001b[0;31mIndentationError\u001b[0m\u001b[0;31m:\u001b[0m expected an indented block after 'for' statement on line 2\n"
     ]
    }
   ],
   "source": [
    "def f(n):\n",
    "    for i in range(1, 1+n): \n",
    "    yield i\n",
    "\n",
    "for i in f(2):  \n",
    "    print(i, end=' ')"
   ]
  },
  {
   "cell_type": "code",
   "execution_count": 13,
   "id": "bc5da3d3-0ab8-453b-b8f4-7496ee6ac6f4",
   "metadata": {},
   "outputs": [
    {
     "ename": "SyntaxError",
     "evalue": "invalid decimal literal (3456858551.py, line 1)",
     "output_type": "error",
     "traceback": [
      "\u001b[0;36m  Cell \u001b[0;32mIn[13], line 1\u001b[0;36m\u001b[0m\n\u001b[0;31m    1st = [x for x in range (5)]\u001b[0m\n\u001b[0m    ^\u001b[0m\n\u001b[0;31mSyntaxError\u001b[0m\u001b[0;31m:\u001b[0m invalid decimal literal\n"
     ]
    }
   ],
   "source": [
    "1st = [x for x in range (5)]\n",
    "1st = list (filter (lambda x: x £ 2 = = 0, 1st))\n",
    "print (len (1st)"
   ]
  },
  {
   "cell_type": "code",
   "execution_count": null,
   "id": "d4a14c5f-fe7d-412c-95b4-e0966599fcf7",
   "metadata": {},
   "outputs": [],
   "source": [
    "x = 4% 2\n",
    "x"
   ]
  },
  {
   "cell_type": "code",
   "execution_count": null,
   "id": "4fdf3e43-5b43-416f-8a17-d2ae321b333e",
   "metadata": {},
   "outputs": [],
   "source": [
    "import random\n",
    "\n",
    "black_sheep = 0\n",
    "white_sheep = 0\n",
    "\n",
    "black_sheep_list = []\n",
    "white_sheep_list = []\n",
    "\n",
    "while True:\n",
    "    # Генерация случайного числа 0 или 1 для определения цвета овцы\n",
    "    sheep_color = random.randint(0, 1)\n",
    "\n",
    "    # Добавление овцы в соответствующий список и подсчет их количества\n",
    "    if sheep_color == 0:\n",
    "        black_sheep += 1\n",
    "        black_sheep_list.append(\"black\")\n",
    "    else:\n",
    "        white_sheep += 1\n",
    "        white_sheep_list.append(\"white\")\n",
    "\n",
    "    # Проверка условия остановки\n",
    "    if black_sheep == 2 * white_sheep:\n",
    "        break\n",
    "\n",
    "# Вывод результатов\n",
    "print(\"Черные овцы:\", black_sheep)\n",
    "print(\"Белые овцы:\", white_sheep)\n",
    "print(\"Черные овцы:\", black_sheep_list)\n",
    "print(\"Белые овцы:\", white_sheep_list)"
   ]
  },
  {
   "cell_type": "code",
   "execution_count": 23,
   "id": "936e6d06-49d9-4de8-8ef7-0238efe17cd9",
   "metadata": {},
   "outputs": [
    {
     "name": "stdin",
     "output_type": "stream",
     "text": [
      " 9\n"
     ]
    },
    {
     "name": "stdout",
     "output_type": "stream",
     "text": [
      "True\n"
     ]
    }
   ],
   "source": [
    "n = int(input())\n",
    "print(n<=100)\n"
   ]
  },
  {
   "cell_type": "code",
   "execution_count": null,
   "id": "675e43d6-b40a-4fbf-be32-93e183a9679c",
   "metadata": {},
   "outputs": [],
   "source": []
  }
 ],
 "metadata": {
  "kernelspec": {
   "display_name": "Python 3 (ipykernel)",
   "language": "python",
   "name": "python3"
  },
  "language_info": {
   "codemirror_mode": {
    "name": "ipython",
    "version": 3
   },
   "file_extension": ".py",
   "mimetype": "text/x-python",
   "name": "python",
   "nbconvert_exporter": "python",
   "pygments_lexer": "ipython3",
   "version": "3.12.1"
  }
 },
 "nbformat": 4,
 "nbformat_minor": 5
}

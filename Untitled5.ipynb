{
 "cells": [
  {
   "cell_type": "code",
   "execution_count": 34,
   "id": "ec8be259-058a-4a40-88e9-8280da146ae0",
   "metadata": {},
   "outputs": [
    {
     "name": "stdin",
     "output_type": "stream",
     "text": [
      "give me the maximal  9\n"
     ]
    },
    {
     "name": "stdout",
     "output_type": "stream",
     "text": [
      "[5, 2, 8, 4, 3, 0, 7, 6, 1]\n",
      "[5, 2, 4, 8, 3, 0, 7, 6, 1]\n",
      "[5, 2, 4, 3, 8, 0, 7, 6, 1]\n",
      "[5, 2, 4, 3, 0, 8, 7, 6, 1]\n",
      "[5, 2, 4, 3, 0, 7, 8, 6, 1]\n",
      "[5, 2, 4, 3, 0, 7, 6, 8, 1]\n",
      "[5, 2, 4, 3, 0, 7, 6, 1, 8]\n",
      "[2, 5, 4, 3, 0, 7, 6, 1, 8]\n",
      "[2, 4, 5, 3, 0, 7, 6, 1, 8]\n",
      "[2, 4, 3, 5, 0, 7, 6, 1, 8]\n",
      "[2, 4, 3, 0, 5, 7, 6, 1, 8]\n",
      "[2, 4, 3, 0, 5, 6, 7, 1, 8]\n",
      "[2, 4, 3, 0, 5, 6, 1, 7, 8]\n",
      "[2, 3, 4, 0, 5, 6, 1, 7, 8]\n",
      "[2, 3, 0, 4, 5, 6, 1, 7, 8]\n",
      "[2, 3, 0, 4, 5, 1, 6, 7, 8]\n",
      "[2, 0, 3, 4, 5, 1, 6, 7, 8]\n",
      "[2, 0, 3, 4, 1, 5, 6, 7, 8]\n",
      "[0, 2, 3, 4, 1, 5, 6, 7, 8]\n",
      "[0, 2, 3, 1, 4, 5, 6, 7, 8]\n",
      "[0, 2, 1, 3, 4, 5, 6, 7, 8]\n",
      "[0, 1, 2, 3, 4, 5, 6, 7, 8]\n",
      "[0, 1, 2, 3, 4, 5, 6, 7, 8]\n"
     ]
    }
   ],
   "source": [
    "import random\n",
    "x = int(input(\"give me the maximal \"))\n",
    "List = [*range(0,x)]\n",
    "l2 = List[:]\n",
    "\n",
    "random.shuffle(l2)\n",
    "\n",
    "for sort_num in range(len(l2)):\n",
    "    for i in range(len(l2)-1):\n",
    "        if l2[i]>l2[i+1]:\n",
    "            l2[i],l2[i+1]=l2[i+1],l2[i]\n",
    "            print(l2)\n",
    "\n",
    "            \n",
    "print(l2)\n",
    "   "
   ]
  },
  {
   "cell_type": "code",
   "execution_count": 12,
   "id": "da7b7796-6fc4-4b51-9582-3c009a7533b1",
   "metadata": {},
   "outputs": [
    {
     "name": "stdout",
     "output_type": "stream",
     "text": [
      "0\n",
      "1\n",
      "2\n",
      "3\n",
      "4\n",
      "5\n",
      "6\n",
      "7\n",
      "8\n",
      "9\n"
     ]
    }
   ],
   "source": [
    "for i in range(len(l2)):\n",
    "    if l2[i]>l2[i+1]:\n",
    "        l2[i],l2[i+1]=l2[i+1],l2[i]\n",
    "        \n",
    "\n",
    "\n",
    "\n",
    "\n",
    "index = 0\n",
    "poem_length = 10\n",
    "while index != poem_length:\n",
    "    print(index)\n",
    "    index += 1"
   ]
  },
  {
   "cell_type": "code",
   "execution_count": null,
   "id": "a3032beb-ea05-4d6f-8ddf-f93fd4b7244d",
   "metadata": {},
   "outputs": [],
   "source": []
  }
 ],
 "metadata": {
  "kernelspec": {
   "display_name": "Python 3 (ipykernel)",
   "language": "python",
   "name": "python3"
  },
  "language_info": {
   "codemirror_mode": {
    "name": "ipython",
    "version": 3
   },
   "file_extension": ".py",
   "mimetype": "text/x-python",
   "name": "python",
   "nbconvert_exporter": "python",
   "pygments_lexer": "ipython3",
   "version": "3.12.1"
  }
 },
 "nbformat": 4,
 "nbformat_minor": 5
}

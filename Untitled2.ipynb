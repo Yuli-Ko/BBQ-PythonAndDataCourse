{
 "cells": [
  {
   "cell_type": "code",
   "execution_count": 1,
   "id": "3a9938eb-1d05-4433-829d-5af8c06698eb",
   "metadata": {},
   "outputs": [],
   "source": [
    "\n",
    "import re\n",
    "\n",
    "def separate_chars(string):\n",
    "    letters = ''.join(filter(str.isalpha, string))\n",
    "    digits = ''.join(filter(str.isdigit, string))\n",
    "    specials = ''.join(filter(lambda x: not x.isalnum(), string))\n",
    "    return [letters, digits, specials]\n",
    "\n",
    "string_list = [\n",
    "    \"12345\",\n",
    "    \"abcdef\",\n",
    "    \"!@#$%\",\n",
    "    \"a1b2c3\",\n",
    "    \"!@Hello\",\n",
    "    \"456@789\",\n",
    "    \"a!b@c#d$e\",\n",
    "    \"123abc!@#\",\n",
    "    \"Special123!Char\"\n",
    "]\n",
    "\n",
    "result_list = []"
   ]
  },
  {
   "cell_type": "code",
   "execution_count": null,
   "id": "4510a620-7108-4cc9-b210-11e5f5be51ba",
   "metadata": {},
   "outputs": [],
   "source": []
  }
 ],
 "metadata": {
  "kernelspec": {
   "display_name": "Python 3 (ipykernel)",
   "language": "python",
   "name": "python3"
  },
  "language_info": {
   "codemirror_mode": {
    "name": "ipython",
    "version": 3
   },
   "file_extension": ".py",
   "mimetype": "text/x-python",
   "name": "python",
   "nbconvert_exporter": "python",
   "pygments_lexer": "ipython3",
   "version": "3.12.1"
  }
 },
 "nbformat": 4,
 "nbformat_minor": 5
}

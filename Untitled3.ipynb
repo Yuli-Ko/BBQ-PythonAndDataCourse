{
 "cells": [
  {
   "cell_type": "code",
   "execution_count": null,
   "id": "cf992433-7c87-4cf8-b73c-0e5775e2cfff",
   "metadata": {},
   "outputs": [],
   "source": [
    "letter = \"n\"\n",
    "selected_words = []\n",
    "import csv\n",
    "\n",
    "with open('cities/worldcities.csv', newline='') as csvfile:\n",
    "    cityreader = csv.reader(csvfile)\n",
    "    for row in cityreader:\n",
    "        row = str(row).lower()\n",
    "        #print(row)\n",
    "        for word in row:\n",
    "            if word.startswith(letter):\n",
    "                selected_words.append(word)\n",
    "                print(selected_words)\n",
    "\n",
    "print(f\"Слова, начинающиеся с '{letter}': {selected_words}\")\n",
    "\n",
    "# import csv\n",
    "\n",
    "# # Определенный символ\n",
    "# chosen_character = 'p'\n",
    "\n",
    "# # Имя файла CSV\n",
    "# csv_file_name = 'example.csv'\n",
    "\n",
    "# # Список для хранения выбранных слов\n",
    "# selected_words = []\n",
    "\n",
    "# # Чтение CSV-файла и выбор слов\n",
    "# with open(csv_file_name, 'r') as csv_file:\n",
    "#     csv_reader = csv.reader(csv_file)\n",
    "#     for row in csv_reader:\n",
    "#         for word in row:\n",
    "#             if word.startswith(chosen_character):\n",
    "#                 selected_words.append(word)\n",
    "\n",
    "# # Вывод результатов\n",
    "# print(f\"Слова, начинающиеся с '{chosen_character}': {selected_words}\")\n",
    "\n",
    "        \n",
    "\n",
    "# chosen_character = 'p'\n",
    "\n",
    "# # Имя файла\n",
    "        \n",
    "# file_name = 'cities/worldcities.csv'\n",
    "\n",
    "# # Список для хранения выбранных слов\n",
    "# selected_words = []\n",
    "\n",
    "# # Чтение файла и выбор слов\n",
    "# with open(file_name, 'r') as file:\n",
    "#     for line in file:\n",
    "#         words = line.split()\n",
    "#         for word in words:\n",
    "#             if word.startswith(chosen_character):\n",
    "#                 selected_words.append(word)\n",
    "\n",
    "# # Вывод результатов\n",
    "# print(f\"Слова, начинающиеся с '{chosen_character}': {selected_words}\")"
   ]
  },
  {
   "cell_type": "code",
   "execution_count": null,
   "id": "860d1aaa-9e05-4d96-bd08-e309e1eb9f4c",
   "metadata": {},
   "outputs": [],
   "source": []
  },
  {
   "cell_type": "code",
   "execution_count": null,
   "id": "4aab0a1a-d0b2-4af0-8556-abc517bb7ccd",
   "metadata": {},
   "outputs": [],
   "source": []
  }
 ],
 "metadata": {
  "kernelspec": {
   "display_name": "Python 3 (ipykernel)",
   "language": "python",
   "name": "python3"
  },
  "language_info": {
   "codemirror_mode": {
    "name": "ipython",
    "version": 3
   },
   "file_extension": ".py",
   "mimetype": "text/x-python",
   "name": "python",
   "nbconvert_exporter": "python",
   "pygments_lexer": "ipython3",
   "version": "3.12.1"
  }
 },
 "nbformat": 4,
 "nbformat_minor": 5
}
